{
 "cells": [
  {
   "cell_type": "markdown",
   "metadata": {},
   "source": [
    "## LISTS AND LOOPS"
   ]
  },
  {
   "cell_type": "markdown",
   "metadata": {},
   "source": [
    "# List"
   ]
  },
  {
   "cell_type": "markdown",
   "metadata": {},
   "source": [
    "Variable that can be used to store more than one value at the same time. The structure of a list is:\n",
    "name_of_the_list = [value1, value 2, value3].\n",
    "To take a value from a list, you need to know its position. for example: name_of_the_list = [position]."
   ]
  },
  {
   "cell_type": "code",
   "execution_count": 3,
   "metadata": {},
   "outputs": [
    {
     "name": "stdout",
     "output_type": "stream",
     "text": [
      "Ana\n",
      "12\n"
     ]
    }
   ],
   "source": [
    "names = [\"Rafael\", \"Jesus\", \"Ana\"]\n",
    "numbers = [10, 12, 15]\n",
    "print(names[2])\n",
    "print(numbers[1])"
   ]
  },
  {
   "cell_type": "markdown",
   "metadata": {},
   "source": [
    "# FOR Loop"
   ]
  },
  {
   "cell_type": "markdown",
   "metadata": {},
   "source": [
    "A loop is a part of the code that will be run many times until a condition is fulfilled.\n",
    "A For loop use a variable that increase its value by 1 every time the code inside it is ran. When this variable reach the limit value, the loop stops and Python continues with the next part of the code.\n",
    "The structure of a for loop is:\n",
    "\n",
    "for name_of_the_variable in range(first_value,last_value):"
   ]
  },
  {
   "cell_type": "code",
   "execution_count": 6,
   "metadata": {
    "scrolled": true
   },
   "outputs": [
    {
     "name": "stdout",
     "output_type": "stream",
     "text": [
      "Hello Hello Hello Hello Hello Hello Hello Hello Hello Hello "
     ]
    }
   ],
   "source": [
    "for i in range(0,10): #The loop will be run 10 times\n",
    "    print(\"Hello\", end = ' ')"
   ]
  },
  {
   "cell_type": "markdown",
   "metadata": {},
   "source": [
    "Instead of use a range, you can use the name of a list in the For loop. In this case, the variable will take the values inside the list one by one.\n",
    "\n",
    "end = '' is used to continue writing in the same line instead of jumping to the next one."
   ]
  },
  {
   "cell_type": "code",
   "execution_count": 7,
   "metadata": {
    "scrolled": true
   },
   "outputs": [
    {
     "name": "stdout",
     "output_type": "stream",
     "text": [
      "Juan Carlos Armando Alex Evelyn "
     ]
    }
   ],
   "source": [
    "names = [\"Juan\", \"Carlos\", \"Armando\", \"Alex\", \"Evelyn\"]\n",
    "for name in names:\n",
    "    print(name, end = ' ')"
   ]
  },
  {
   "cell_type": "markdown",
   "metadata": {},
   "source": [
    "## Example"
   ]
  },
  {
   "cell_type": "markdown",
   "metadata": {},
   "source": [
    "To add a value in a list, use the next command:\n",
    "\n",
    "name_of_the_list.append(value)"
   ]
  },
  {
   "cell_type": "code",
   "execution_count": 9,
   "metadata": {
    "scrolled": true
   },
   "outputs": [
    {
     "name": "stdout",
     "output_type": "stream",
     "text": [
      "How much data do you want to introduce? 2\n",
      "Introduce age: 10\n",
      "Introduce age: 16\n",
      "This is your sample: \n",
      "10 16 \n",
      "\n",
      "The sample mean is = 13.0\n"
     ]
    }
   ],
   "source": [
    "values = int(input(\"How much data do you want to introduce? \"))\n",
    "ages = []\n",
    "total = 0\n",
    "for i in range(0,values):\n",
    "    x = int(input(\"Introduce age: \"))\n",
    "    ages.append(x)\n",
    "    total += x\n",
    "print(\"This is your sample: \")\n",
    "\n",
    "for age in ages:\n",
    "    print(age, end = ' ')\n",
    "\n",
    "sample_mean = total/values\n",
    "\n",
    "print(f\"\\n\\nThe sample mean is = {sample_mean}\")"
   ]
  },
  {
   "cell_type": "markdown",
   "metadata": {},
   "source": [
    "# While Loop"
   ]
  },
  {
   "cell_type": "markdown",
   "metadata": {},
   "source": [
    "A while loop will keep running until the condition in it is FALSE."
   ]
  },
  {
   "cell_type": "code",
   "execution_count": 11,
   "metadata": {},
   "outputs": [
    {
     "name": "stdout",
     "output_type": "stream",
     "text": [
      "Write 0 to stop\n",
      "Give me a number: 4\n",
      "Write 0 to stop\n",
      "Give me a number: 3\n",
      "Write 0 to stop\n",
      "Give me a number: 2\n",
      "Write 0 to stop\n",
      "Give me a number: 6\n",
      "Write 0 to stop\n",
      "Give me a number: 10\n",
      "Write 0 to stop\n",
      "Give me a number: 27\n",
      "Write 0 to stop\n",
      "Give me a number: 34\n",
      "Write 0 to stop\n",
      "Give me a number: 67\n",
      "Write 0 to stop\n",
      "Give me a number: 23\n",
      "Write 0 to stop\n",
      "Give me a number: 56\n",
      "Write 0 to stop\n",
      "Give me a number: 12\n",
      "Write 0 to stop\n",
      "Give me a number: 56\n",
      "Write 0 to stop\n",
      "Give me a number: 12\n",
      "Write 0 to stop\n",
      "Give me a number: 0\n",
      "[4, 3, 2, 6, 10, 27, 34, 67, 23, 56, 12, 56, 12, 0]\n"
     ]
    }
   ],
   "source": [
    "i = 0\n",
    "x = []\n",
    "while i < 1: #The condition for the loop is i less than 1\n",
    "    print(\"Write 0 to stop\")\n",
    "    number = int(input(\"Give me a number: \")) #Ask for a number and save it in the variable number\n",
    "    x.append(number) #Save the variable number in the list x\n",
    "    \n",
    "    if number == 0: #If the user introduces a 0, the value of i increases and the condition of the loop becomes FALSE\n",
    "        i += 1\n",
    "print(x)"
   ]
  },
  {
   "cell_type": "code",
   "execution_count": 12,
   "metadata": {},
   "outputs": [
    {
     "name": "stdout",
     "output_type": "stream",
     "text": [
      "55\n"
     ]
    }
   ],
   "source": [
    "x = [1,2,3,4,5,6,7,8,9,10]\n",
    "suma = 0\n",
    "for i in x:\n",
    "    suma += i\n",
    "print(suma)"
   ]
  }
 ],
 "metadata": {
  "kernelspec": {
   "display_name": "Python 3",
   "language": "python",
   "name": "python3"
  },
  "language_info": {
   "codemirror_mode": {
    "name": "ipython",
    "version": 3
   },
   "file_extension": ".py",
   "mimetype": "text/x-python",
   "name": "python",
   "nbconvert_exporter": "python",
   "pygments_lexer": "ipython3",
   "version": "3.8.3"
  }
 },
 "nbformat": 4,
 "nbformat_minor": 2
}
